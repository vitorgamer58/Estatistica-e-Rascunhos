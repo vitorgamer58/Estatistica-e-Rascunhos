{
 "cells": [
  {
   "cell_type": "code",
   "execution_count": 1,
   "metadata": {},
   "outputs": [
    {
     "name": "stderr",
     "output_type": "stream",
     "text": [
      "Matplotlib is building the font cache; this may take a moment.\n"
     ]
    }
   ],
   "source": [
    "import numpy as np\n",
    "import pandas as pd\n",
    "from pandas_datareader import data as wb\n",
    "import matplotlib.pyplot as plt"
   ]
  },
  {
   "cell_type": "code",
   "execution_count": 3,
   "metadata": {},
   "outputs": [],
   "source": [
    "data = wb.DataReader('PG', data_source='yahoo',start='2000-1-1')"
   ]
  },
  {
   "cell_type": "code",
   "execution_count": 4,
   "metadata": {},
   "outputs": [
    {
     "data": {
      "text/html": [
       "<div>\n",
       "<style scoped>\n",
       "    .dataframe tbody tr th:only-of-type {\n",
       "        vertical-align: middle;\n",
       "    }\n",
       "\n",
       "    .dataframe tbody tr th {\n",
       "        vertical-align: top;\n",
       "    }\n",
       "\n",
       "    .dataframe thead th {\n",
       "        text-align: right;\n",
       "    }\n",
       "</style>\n",
       "<table border=\"1\" class=\"dataframe\">\n",
       "  <thead>\n",
       "    <tr style=\"text-align: right;\">\n",
       "      <th></th>\n",
       "      <th>High</th>\n",
       "      <th>Low</th>\n",
       "      <th>Open</th>\n",
       "      <th>Close</th>\n",
       "      <th>Volume</th>\n",
       "      <th>Adj Close</th>\n",
       "    </tr>\n",
       "    <tr>\n",
       "      <th>Date</th>\n",
       "      <th></th>\n",
       "      <th></th>\n",
       "      <th></th>\n",
       "      <th></th>\n",
       "      <th></th>\n",
       "      <th></th>\n",
       "    </tr>\n",
       "  </thead>\n",
       "  <tbody>\n",
       "    <tr>\n",
       "      <th>2000-01-03</th>\n",
       "      <td>53.96875</td>\n",
       "      <td>52.84375</td>\n",
       "      <td>53.90625</td>\n",
       "      <td>53.59375</td>\n",
       "      <td>4275000.0</td>\n",
       "      <td>28.213228</td>\n",
       "    </tr>\n",
       "    <tr>\n",
       "      <th>2000-01-04</th>\n",
       "      <td>54.18750</td>\n",
       "      <td>51.87500</td>\n",
       "      <td>53.18750</td>\n",
       "      <td>52.56250</td>\n",
       "      <td>4270800.0</td>\n",
       "      <td>27.670355</td>\n",
       "    </tr>\n",
       "    <tr>\n",
       "      <th>2000-01-05</th>\n",
       "      <td>52.68750</td>\n",
       "      <td>51.25000</td>\n",
       "      <td>52.43750</td>\n",
       "      <td>51.56250</td>\n",
       "      <td>5098400.0</td>\n",
       "      <td>27.143930</td>\n",
       "    </tr>\n",
       "    <tr>\n",
       "      <th>2000-01-06</th>\n",
       "      <td>54.71875</td>\n",
       "      <td>52.53125</td>\n",
       "      <td>52.56250</td>\n",
       "      <td>53.93750</td>\n",
       "      <td>6524200.0</td>\n",
       "      <td>28.394205</td>\n",
       "    </tr>\n",
       "    <tr>\n",
       "      <th>2000-01-07</th>\n",
       "      <td>58.50000</td>\n",
       "      <td>54.59375</td>\n",
       "      <td>54.78125</td>\n",
       "      <td>58.25000</td>\n",
       "      <td>9832000.0</td>\n",
       "      <td>30.664419</td>\n",
       "    </tr>\n",
       "  </tbody>\n",
       "</table>\n",
       "</div>"
      ],
      "text/plain": [
       "                High       Low      Open     Close     Volume  Adj Close\n",
       "Date                                                                    \n",
       "2000-01-03  53.96875  52.84375  53.90625  53.59375  4275000.0  28.213228\n",
       "2000-01-04  54.18750  51.87500  53.18750  52.56250  4270800.0  27.670355\n",
       "2000-01-05  52.68750  51.25000  52.43750  51.56250  5098400.0  27.143930\n",
       "2000-01-06  54.71875  52.53125  52.56250  53.93750  6524200.0  28.394205\n",
       "2000-01-07  58.50000  54.59375  54.78125  58.25000  9832000.0  30.664419"
      ]
     },
     "execution_count": 4,
     "metadata": {},
     "output_type": "execute_result"
    }
   ],
   "source": [
    "data.head()"
   ]
  },
  {
   "cell_type": "code",
   "execution_count": 9,
   "metadata": {},
   "outputs": [
    {
     "data": {
      "text/html": [
       "<div>\n",
       "<style scoped>\n",
       "    .dataframe tbody tr th:only-of-type {\n",
       "        vertical-align: middle;\n",
       "    }\n",
       "\n",
       "    .dataframe tbody tr th {\n",
       "        vertical-align: top;\n",
       "    }\n",
       "\n",
       "    .dataframe thead th {\n",
       "        text-align: right;\n",
       "    }\n",
       "</style>\n",
       "<table border=\"1\" class=\"dataframe\">\n",
       "  <thead>\n",
       "    <tr style=\"text-align: right;\">\n",
       "      <th></th>\n",
       "      <th>High</th>\n",
       "      <th>Low</th>\n",
       "      <th>Open</th>\n",
       "      <th>Close</th>\n",
       "      <th>Volume</th>\n",
       "      <th>Adj Close</th>\n",
       "      <th>Resultado</th>\n",
       "    </tr>\n",
       "    <tr>\n",
       "      <th>Date</th>\n",
       "      <th></th>\n",
       "      <th></th>\n",
       "      <th></th>\n",
       "      <th></th>\n",
       "      <th></th>\n",
       "      <th></th>\n",
       "      <th></th>\n",
       "    </tr>\n",
       "  </thead>\n",
       "  <tbody>\n",
       "    <tr>\n",
       "      <th>2020-09-30</th>\n",
       "      <td>139.850006</td>\n",
       "      <td>137.809998</td>\n",
       "      <td>138.160004</td>\n",
       "      <td>138.990005</td>\n",
       "      <td>8727800.0</td>\n",
       "      <td>138.990005</td>\n",
       "      <td>0.012604</td>\n",
       "    </tr>\n",
       "    <tr>\n",
       "      <th>2020-10-01</th>\n",
       "      <td>139.990005</td>\n",
       "      <td>138.210007</td>\n",
       "      <td>139.580002</td>\n",
       "      <td>139.240005</td>\n",
       "      <td>5713400.0</td>\n",
       "      <td>139.240005</td>\n",
       "      <td>0.001799</td>\n",
       "    </tr>\n",
       "    <tr>\n",
       "      <th>2020-10-02</th>\n",
       "      <td>139.119995</td>\n",
       "      <td>136.949997</td>\n",
       "      <td>137.929993</td>\n",
       "      <td>138.119995</td>\n",
       "      <td>6077900.0</td>\n",
       "      <td>138.119995</td>\n",
       "      <td>-0.008044</td>\n",
       "    </tr>\n",
       "    <tr>\n",
       "      <th>2020-10-05</th>\n",
       "      <td>139.649994</td>\n",
       "      <td>138.300003</td>\n",
       "      <td>138.720001</td>\n",
       "      <td>139.389999</td>\n",
       "      <td>6333900.0</td>\n",
       "      <td>139.389999</td>\n",
       "      <td>0.009195</td>\n",
       "    </tr>\n",
       "    <tr>\n",
       "      <th>2020-10-06</th>\n",
       "      <td>139.779999</td>\n",
       "      <td>138.809998</td>\n",
       "      <td>139.419998</td>\n",
       "      <td>139.720001</td>\n",
       "      <td>1090843.0</td>\n",
       "      <td>139.720001</td>\n",
       "      <td>0.002367</td>\n",
       "    </tr>\n",
       "  </tbody>\n",
       "</table>\n",
       "</div>"
      ],
      "text/plain": [
       "                  High         Low        Open       Close     Volume  \\\n",
       "Date                                                                    \n",
       "2020-09-30  139.850006  137.809998  138.160004  138.990005  8727800.0   \n",
       "2020-10-01  139.990005  138.210007  139.580002  139.240005  5713400.0   \n",
       "2020-10-02  139.119995  136.949997  137.929993  138.119995  6077900.0   \n",
       "2020-10-05  139.649994  138.300003  138.720001  139.389999  6333900.0   \n",
       "2020-10-06  139.779999  138.809998  139.419998  139.720001  1090843.0   \n",
       "\n",
       "             Adj Close  Resultado  \n",
       "Date                               \n",
       "2020-09-30  138.990005   0.012604  \n",
       "2020-10-01  139.240005   0.001799  \n",
       "2020-10-02  138.119995  -0.008044  \n",
       "2020-10-05  139.389999   0.009195  \n",
       "2020-10-06  139.720001   0.002367  "
      ]
     },
     "execution_count": 9,
     "metadata": {},
     "output_type": "execute_result"
    }
   ],
   "source": [
    "data.tail()"
   ]
  },
  {
   "cell_type": "code",
   "execution_count": 8,
   "metadata": {},
   "outputs": [
    {
     "name": "stdout",
     "output_type": "stream",
     "text": [
      "Date\n",
      "2000-01-03         NaN\n",
      "2000-01-04   -0.019242\n",
      "2000-01-05   -0.019025\n",
      "2000-01-06    0.046061\n",
      "2000-01-07    0.079953\n",
      "                ...   \n",
      "2020-09-30    0.012604\n",
      "2020-10-01    0.001799\n",
      "2020-10-02   -0.008044\n",
      "2020-10-05    0.009195\n",
      "2020-10-06    0.002367\n",
      "Name: Resultado, Length: 5224, dtype: float64\n"
     ]
    }
   ],
   "source": [
    "data['Resultado'] = (data['Adj Close']/data['Adj Close'].shift(1))-1\n",
    "print(data['Resultado'])"
   ]
  },
  {
   "cell_type": "code",
   "execution_count": 15,
   "metadata": {},
   "outputs": [
    {
     "data": {
      "image/png": "[encoded data removed]",
      "text/plain": [
       "<Figure size 576x360 with 1 Axes>"
      ]
     },
     "metadata": {
      "needs_background": "light"
     },
     "output_type": "display_data"
    }
   ],
   "source": [
    "data['Resultado'].plot(figsize=(8,5))\n",
    "plt.show()"
   ]
  },
  {
   "cell_type": "code",
   "execution_count": 18,
   "metadata": {},
   "outputs": [
    {
     "name": "stdout",
     "output_type": "stream",
     "text": [
      "0.10021782618690317\n",
      "10.022%\n"
     ]
    }
   ],
   "source": [
    "media_anual = data['Resultado'].mean()*250\n",
    "print(media_anual)\n",
    "print(str(round(media_anual,5)*100)+'%')"
   ]
  },
  {
   "cell_type": "code",
   "execution_count": 19,
   "metadata": {},
   "outputs": [
    {
     "name": "stdout",
     "output_type": "stream",
     "text": [
      "Date\n",
      "2000-01-03         NaN\n",
      "2000-01-04   -0.019429\n",
      "2000-01-05   -0.019208\n",
      "2000-01-06    0.045032\n",
      "2000-01-07    0.076918\n",
      "                ...   \n",
      "2020-09-30    0.012525\n",
      "2020-10-01    0.001797\n",
      "2020-10-02   -0.008076\n",
      "2020-10-05    0.009153\n",
      "2020-10-06    0.002365\n",
      "Name: RetLogaritmico, Length: 5224, dtype: float64\n"
     ]
    }
   ],
   "source": [
    "data['RetLogaritmico'] = np.log(data['Adj Close']/data['Adj Close'].shift(1))\n",
    "print(data['RetLogaritmico'])"
   ]
  },
  {
   "cell_type": "code",
   "execution_count": 21,
   "metadata": {},
   "outputs": [
    {
     "data": {
      "image/png": "[encoded data removed]",
      "text/plain": [
       "<Figure size 576x360 with 1 Axes>"
      ]
     },
     "metadata": {
      "needs_background": "light"
     },
     "output_type": "display_data"
    }
   ],
   "source": [
    "data['RetLogaritmico'].plot(figsize = (8,5))\n",
    "plt.show()"
   ]
  },
  {
   "cell_type": "code",
   "execution_count": 23,
   "metadata": {},
   "outputs": [
    {
     "name": "stdout",
     "output_type": "stream",
     "text": [
      "7.6579999999999995%\n"
     ]
    }
   ],
   "source": [
    "medialog = data['RetLogaritmico'].mean()*250\n",
    "print(str(round(medialog,5)*100)+'%')"
   ]
  },
  {
   "cell_type": "code",
   "execution_count": 25,
   "metadata": {},
   "outputs": [],
   "source": [
    "carteiras = ['PG', 'MSFT', 'F', 'GE', 'AAPL']\n",
    "database = pd.DataFrame()"
   ]
  },
  {
   "cell_type": "code",
   "execution_count": 28,
   "metadata": {},
   "outputs": [],
   "source": [
    "for i in carteiras:\n",
    "    database[i] = wb.DataReader(i, data_source='yahoo', start='2000-1-1')['Adj Close']\n"
   ]
  },
  {
   "cell_type": "code",
   "execution_count": 31,
   "metadata": {},
   "outputs": [
    {
     "name": "stdout",
     "output_type": "stream",
     "text": [
      "<class 'pandas.core.frame.DataFrame'>\n",
      "DatetimeIndex: 5224 entries, 2000-01-03 to 2020-10-06\n",
      "Data columns (total 5 columns):\n",
      " #   Column  Non-Null Count  Dtype  \n",
      "---  ------  --------------  -----  \n",
      " 0   PG      5224 non-null   float64\n",
      " 1   MSFT    5224 non-null   float64\n",
      " 2   F       5224 non-null   float64\n",
      " 3   GE      5224 non-null   float64\n",
      " 4   AAPL    5224 non-null   float64\n",
      "dtypes: float64(5)\n",
      "memory usage: 244.9 KB\n"
     ]
    },
    {
     "data": {
      "text/html": [
       "<div>\n",
       "<style scoped>\n",
       "    .dataframe tbody tr th:only-of-type {\n",
       "        vertical-align: middle;\n",
       "    }\n",
       "\n",
       "    .dataframe tbody tr th {\n",
       "        vertical-align: top;\n",
       "    }\n",
       "\n",
       "    .dataframe thead th {\n",
       "        text-align: right;\n",
       "    }\n",
       "</style>\n",
       "<table border=\"1\" class=\"dataframe\">\n",
       "  <thead>\n",
       "    <tr style=\"text-align: right;\">\n",
       "      <th></th>\n",
       "      <th>PG</th>\n",
       "      <th>MSFT</th>\n",
       "      <th>F</th>\n",
       "      <th>GE</th>\n",
       "      <th>AAPL</th>\n",
       "    </tr>\n",
       "    <tr>\n",
       "      <th>Date</th>\n",
       "      <th></th>\n",
       "      <th></th>\n",
       "      <th></th>\n",
       "      <th></th>\n",
       "      <th></th>\n",
       "    </tr>\n",
       "  </thead>\n",
       "  <tbody>\n",
       "    <tr>\n",
       "      <th>2020-09-30</th>\n",
       "      <td>138.990005</td>\n",
       "      <td>210.330002</td>\n",
       "      <td>6.660</td>\n",
       "      <td>6.230</td>\n",
       "      <td>115.809998</td>\n",
       "    </tr>\n",
       "    <tr>\n",
       "      <th>2020-10-01</th>\n",
       "      <td>139.240005</td>\n",
       "      <td>212.460007</td>\n",
       "      <td>6.750</td>\n",
       "      <td>6.240</td>\n",
       "      <td>116.790001</td>\n",
       "    </tr>\n",
       "    <tr>\n",
       "      <th>2020-10-02</th>\n",
       "      <td>138.119995</td>\n",
       "      <td>206.190002</td>\n",
       "      <td>6.890</td>\n",
       "      <td>6.390</td>\n",
       "      <td>113.019997</td>\n",
       "    </tr>\n",
       "    <tr>\n",
       "      <th>2020-10-05</th>\n",
       "      <td>139.389999</td>\n",
       "      <td>210.380005</td>\n",
       "      <td>7.020</td>\n",
       "      <td>6.410</td>\n",
       "      <td>116.500000</td>\n",
       "    </tr>\n",
       "    <tr>\n",
       "      <th>2020-10-06</th>\n",
       "      <td>140.100006</td>\n",
       "      <td>208.250000</td>\n",
       "      <td>7.155</td>\n",
       "      <td>6.485</td>\n",
       "      <td>115.019997</td>\n",
       "    </tr>\n",
       "  </tbody>\n",
       "</table>\n",
       "</div>"
      ],
      "text/plain": [
       "                    PG        MSFT      F     GE        AAPL\n",
       "Date                                                        \n",
       "2020-09-30  138.990005  210.330002  6.660  6.230  115.809998\n",
       "2020-10-01  139.240005  212.460007  6.750  6.240  116.790001\n",
       "2020-10-02  138.119995  206.190002  6.890  6.390  113.019997\n",
       "2020-10-05  139.389999  210.380005  7.020  6.410  116.500000\n",
       "2020-10-06  140.100006  208.250000  7.155  6.485  115.019997"
      ]
     },
     "execution_count": 31,
     "metadata": {},
     "output_type": "execute_result"
    }
   ],
   "source": [
    "database.info()\n",
    "database.head()\n",
    "database.tail()"
   ]
  },
  {
   "cell_type": "code",
   "execution_count": 32,
   "metadata": {},
   "outputs": [
    {
     "data": {
      "text/html": [
       "<div>\n",
       "<style scoped>\n",
       "    .dataframe tbody tr th:only-of-type {\n",
       "        vertical-align: middle;\n",
       "    }\n",
       "\n",
       "    .dataframe tbody tr th {\n",
       "        vertical-align: top;\n",
       "    }\n",
       "\n",
       "    .dataframe thead th {\n",
       "        text-align: right;\n",
       "    }\n",
       "</style>\n",
       "<table border=\"1\" class=\"dataframe\">\n",
       "  <thead>\n",
       "    <tr style=\"text-align: right;\">\n",
       "      <th></th>\n",
       "      <th>PG</th>\n",
       "      <th>MSFT</th>\n",
       "      <th>F</th>\n",
       "      <th>GE</th>\n",
       "      <th>AAPL</th>\n",
       "    </tr>\n",
       "    <tr>\n",
       "      <th>Date</th>\n",
       "      <th></th>\n",
       "      <th></th>\n",
       "      <th></th>\n",
       "      <th></th>\n",
       "      <th></th>\n",
       "    </tr>\n",
       "  </thead>\n",
       "  <tbody>\n",
       "    <tr>\n",
       "      <th>2000-01-03</th>\n",
       "      <td>NaN</td>\n",
       "      <td>NaN</td>\n",
       "      <td>NaN</td>\n",
       "      <td>NaN</td>\n",
       "      <td>NaN</td>\n",
       "    </tr>\n",
       "    <tr>\n",
       "      <th>2000-01-04</th>\n",
       "      <td>-0.019242</td>\n",
       "      <td>-0.033780</td>\n",
       "      <td>-0.033413</td>\n",
       "      <td>-0.040000</td>\n",
       "      <td>-0.084311</td>\n",
       "    </tr>\n",
       "    <tr>\n",
       "      <th>2000-01-05</th>\n",
       "      <td>-0.019025</td>\n",
       "      <td>0.010544</td>\n",
       "      <td>0.003704</td>\n",
       "      <td>-0.001736</td>\n",
       "      <td>0.014634</td>\n",
       "    </tr>\n",
       "    <tr>\n",
       "      <th>2000-01-06</th>\n",
       "      <td>0.046061</td>\n",
       "      <td>-0.033498</td>\n",
       "      <td>0.001230</td>\n",
       "      <td>0.013369</td>\n",
       "      <td>-0.086539</td>\n",
       "    </tr>\n",
       "    <tr>\n",
       "      <th>2000-01-07</th>\n",
       "      <td>0.079953</td>\n",
       "      <td>0.013068</td>\n",
       "      <td>0.073710</td>\n",
       "      <td>0.038721</td>\n",
       "      <td>0.047368</td>\n",
       "    </tr>\n",
       "  </tbody>\n",
       "</table>\n",
       "</div>"
      ],
      "text/plain": [
       "                  PG      MSFT         F        GE      AAPL\n",
       "Date                                                        \n",
       "2000-01-03       NaN       NaN       NaN       NaN       NaN\n",
       "2000-01-04 -0.019242 -0.033780 -0.033413 -0.040000 -0.084311\n",
       "2000-01-05 -0.019025  0.010544  0.003704 -0.001736  0.014634\n",
       "2000-01-06  0.046061 -0.033498  0.001230  0.013369 -0.086539\n",
       "2000-01-07  0.079953  0.013068  0.073710  0.038721  0.047368"
      ]
     },
     "execution_count": 32,
     "metadata": {},
     "output_type": "execute_result"
    }
   ],
   "source": [
    "ret_carteiras = (database / database.shift(1))-1\n",
    "ret_carteiras.head()"
   ]
  },
  {
   "cell_type": "code",
   "execution_count": 33,
   "metadata": {},
   "outputs": [],
   "source": [
    "pesos = np.array([0.2, 0.2, 0.2, 0.2, 0.2])"
   ]
  },
  {
   "cell_type": "code",
   "execution_count": 34,
   "metadata": {},
   "outputs": [
    {
     "data": {
      "text/plain": [
       "array([        nan, -0.04214909,  0.00162413, ..., -0.00501124,\n",
       "        0.01646098,  0.00263931])"
      ]
     },
     "execution_count": 34,
     "metadata": {},
     "output_type": "execute_result"
    }
   ],
   "source": [
    "np.dot(ret_carteiras,pesos)"
   ]
  },
  {
   "cell_type": "code",
   "execution_count": 43,
   "metadata": {},
   "outputs": [
    {
     "name": "stdout",
     "output_type": "stream",
     "text": [
      "PG      0.040139\n",
      "MSFT    0.052025\n",
      "F       0.020606\n",
      "GE     -0.003909\n",
      "AAPL    0.128066\n",
      "dtype: float64\n"
     ]
    }
   ],
   "source": [
    "mediacarteiras = ret_carteiras.mean()*100\n",
    "print(mediacarteiras)"
   ]
  },
  {
   "cell_type": "code",
   "execution_count": 39,
   "metadata": {},
   "outputs": [
    {
     "data": {
      "text/plain": [
       "0.11846359744881858"
      ]
     },
     "execution_count": 39,
     "metadata": {},
     "output_type": "execute_result"
    }
   ],
   "source": [
    "np.dot(mediaretornoanual,pesos)"
   ]
  },
  {
   "cell_type": "code",
   "execution_count": 40,
   "metadata": {},
   "outputs": [
    {
     "name": "stdout",
     "output_type": "stream",
     "text": [
      "11.846%\n"
     ]
    }
   ],
   "source": [
    "portifolio = str(round(np.dot(mediaretornoanual,pesos),5)*100)+'%'\n",
    "print(portifolio)"
   ]
  },
  {
   "cell_type": "code",
   "execution_count": 44,
   "metadata": {},
   "outputs": [
    {
     "name": "stdout",
     "output_type": "stream",
     "text": [
      "15.359%\n"
     ]
    }
   ],
   "source": [
    "pesos2 = np.array([0.3, 0.3, 0.15, 0.01, 0.24])\n",
    "portifolio2 = str(round(np.dot(mediaretornoanual, pesos2),5)*100) + '%'\n",
    "print(portifolio2)"
   ]
  },
  {
   "cell_type": "code",
   "execution_count": 46,
   "metadata": {},
   "outputs": [],
   "source": [
    "ind_carteiras = ['^GSPC', '^IXIC', '^GDAXI']\n",
    "indicadores = pd.DataFrame()\n",
    "for t in ind_carteiras:\n",
    "    indicadores[t] = wb.DataReader(t, data_source='yahoo',start='2000-1-1')['Adj Close']"
   ]
  },
  {
   "cell_type": "code",
   "execution_count": 47,
   "metadata": {},
   "outputs": [
    {
     "data": {
      "text/html": [
       "<div>\n",
       "<style scoped>\n",
       "    .dataframe tbody tr th:only-of-type {\n",
       "        vertical-align: middle;\n",
       "    }\n",
       "\n",
       "    .dataframe tbody tr th {\n",
       "        vertical-align: top;\n",
       "    }\n",
       "\n",
       "    .dataframe thead th {\n",
       "        text-align: right;\n",
       "    }\n",
       "</style>\n",
       "<table border=\"1\" class=\"dataframe\">\n",
       "  <thead>\n",
       "    <tr style=\"text-align: right;\">\n",
       "      <th></th>\n",
       "      <th>^GSPC</th>\n",
       "      <th>^IXIC</th>\n",
       "      <th>^GDAXI</th>\n",
       "    </tr>\n",
       "    <tr>\n",
       "      <th>Date</th>\n",
       "      <th></th>\n",
       "      <th></th>\n",
       "      <th></th>\n",
       "    </tr>\n",
       "  </thead>\n",
       "  <tbody>\n",
       "    <tr>\n",
       "      <th>2000-01-03</th>\n",
       "      <td>1455.219971</td>\n",
       "      <td>4131.149902</td>\n",
       "      <td>6750.759766</td>\n",
       "    </tr>\n",
       "    <tr>\n",
       "      <th>2000-01-04</th>\n",
       "      <td>1399.420044</td>\n",
       "      <td>3901.689941</td>\n",
       "      <td>6586.950195</td>\n",
       "    </tr>\n",
       "    <tr>\n",
       "      <th>2000-01-05</th>\n",
       "      <td>1402.109985</td>\n",
       "      <td>3877.540039</td>\n",
       "      <td>6502.069824</td>\n",
       "    </tr>\n",
       "    <tr>\n",
       "      <th>2000-01-06</th>\n",
       "      <td>1403.449951</td>\n",
       "      <td>3727.129883</td>\n",
       "      <td>6474.919922</td>\n",
       "    </tr>\n",
       "    <tr>\n",
       "      <th>2000-01-07</th>\n",
       "      <td>1441.469971</td>\n",
       "      <td>3882.620117</td>\n",
       "      <td>6780.959961</td>\n",
       "    </tr>\n",
       "  </tbody>\n",
       "</table>\n",
       "</div>"
      ],
      "text/plain": [
       "                  ^GSPC        ^IXIC       ^GDAXI\n",
       "Date                                             \n",
       "2000-01-03  1455.219971  4131.149902  6750.759766\n",
       "2000-01-04  1399.420044  3901.689941  6586.950195\n",
       "2000-01-05  1402.109985  3877.540039  6502.069824\n",
       "2000-01-06  1403.449951  3727.129883  6474.919922\n",
       "2000-01-07  1441.469971  3882.620117  6780.959961"
      ]
     },
     "execution_count": 47,
     "metadata": {},
     "output_type": "execute_result"
    }
   ],
   "source": [
    "indicadores.head()"
   ]
  },
  {
   "cell_type": "code",
   "execution_count": 48,
   "metadata": {},
   "outputs": [
    {
     "data": {
      "image/png": "[encoded data removed]",
      "text/plain": [
       "<Figure size 576x360 with 1 Axes>"
      ]
     },
     "metadata": {
      "needs_background": "light"
     },
     "output_type": "display_data"
    }
   ],
   "source": [
    "(indicadores/indicadores.iloc[0]*100).plot(figsize=(8,5))\n",
    "plt.show()"
   ]
  },
  {
   "cell_type": "code",
   "execution_count": 49,
   "metadata": {},
   "outputs": [
    {
     "data": {
      "text/html": [
       "<div>\n",
       "<style scoped>\n",
       "    .dataframe tbody tr th:only-of-type {\n",
       "        vertical-align: middle;\n",
       "    }\n",
       "\n",
       "    .dataframe tbody tr th {\n",
       "        vertical-align: top;\n",
       "    }\n",
       "\n",
       "    .dataframe thead th {\n",
       "        text-align: right;\n",
       "    }\n",
       "</style>\n",
       "<table border=\"1\" class=\"dataframe\">\n",
       "  <thead>\n",
       "    <tr style=\"text-align: right;\">\n",
       "      <th></th>\n",
       "      <th>^GSPC</th>\n",
       "      <th>^IXIC</th>\n",
       "      <th>^GDAXI</th>\n",
       "    </tr>\n",
       "    <tr>\n",
       "      <th>Date</th>\n",
       "      <th></th>\n",
       "      <th></th>\n",
       "      <th></th>\n",
       "    </tr>\n",
       "  </thead>\n",
       "  <tbody>\n",
       "    <tr>\n",
       "      <th>2020-09-30</th>\n",
       "      <td>0.008254</td>\n",
       "      <td>0.007421</td>\n",
       "      <td>-0.005075</td>\n",
       "    </tr>\n",
       "    <tr>\n",
       "      <th>2020-10-01</th>\n",
       "      <td>0.005293</td>\n",
       "      <td>0.014238</td>\n",
       "      <td>-0.002348</td>\n",
       "    </tr>\n",
       "    <tr>\n",
       "      <th>2020-10-02</th>\n",
       "      <td>-0.009578</td>\n",
       "      <td>-0.022204</td>\n",
       "      <td>-0.003278</td>\n",
       "    </tr>\n",
       "    <tr>\n",
       "      <th>2020-10-05</th>\n",
       "      <td>0.017973</td>\n",
       "      <td>0.023248</td>\n",
       "      <td>0.010976</td>\n",
       "    </tr>\n",
       "    <tr>\n",
       "      <th>2020-10-06</th>\n",
       "      <td>0.001531</td>\n",
       "      <td>-0.001101</td>\n",
       "      <td>0.006058</td>\n",
       "    </tr>\n",
       "  </tbody>\n",
       "</table>\n",
       "</div>"
      ],
      "text/plain": [
       "               ^GSPC     ^IXIC    ^GDAXI\n",
       "Date                                    \n",
       "2020-09-30  0.008254  0.007421 -0.005075\n",
       "2020-10-01  0.005293  0.014238 -0.002348\n",
       "2020-10-02 -0.009578 -0.022204 -0.003278\n",
       "2020-10-05  0.017973  0.023248  0.010976\n",
       "2020-10-06  0.001531 -0.001101  0.006058"
      ]
     },
     "execution_count": 49,
     "metadata": {},
     "output_type": "execute_result"
    }
   ],
   "source": [
    "retindicadores = (indicadores/indicadores.shift(1))-1\n",
    "retindicadores.tail()"
   ]
  },
  {
   "cell_type": "code",
   "execution_count": 50,
   "metadata": {},
   "outputs": [
    {
     "name": "stdout",
     "output_type": "stream",
     "text": [
      "^GSPC     0.060558\n",
      "^IXIC     0.080426\n",
      "^GDAXI    0.044879\n",
      "dtype: float64\n"
     ]
    }
   ],
   "source": [
    "retindicadoresanuais = retindicadores.mean()*250\n",
    "print(retindicadoresanuais)"
   ]
  },
  {
   "cell_type": "code",
   "execution_count": 51,
   "metadata": {},
   "outputs": [
    {
     "data": {
      "text/html": [
       "<div>\n",
       "<style scoped>\n",
       "    .dataframe tbody tr th:only-of-type {\n",
       "        vertical-align: middle;\n",
       "    }\n",
       "\n",
       "    .dataframe tbody tr th {\n",
       "        vertical-align: top;\n",
       "    }\n",
       "\n",
       "    .dataframe thead th {\n",
       "        text-align: right;\n",
       "    }\n",
       "</style>\n",
       "<table border=\"1\" class=\"dataframe\">\n",
       "  <thead>\n",
       "    <tr style=\"text-align: right;\">\n",
       "      <th></th>\n",
       "      <th>PG</th>\n",
       "      <th>AAPL</th>\n",
       "    </tr>\n",
       "    <tr>\n",
       "      <th>Date</th>\n",
       "      <th></th>\n",
       "      <th></th>\n",
       "    </tr>\n",
       "  </thead>\n",
       "  <tbody>\n",
       "    <tr>\n",
       "      <th>2020-09-30</th>\n",
       "      <td>138.990005</td>\n",
       "      <td>115.809998</td>\n",
       "    </tr>\n",
       "    <tr>\n",
       "      <th>2020-10-01</th>\n",
       "      <td>139.240005</td>\n",
       "      <td>116.790001</td>\n",
       "    </tr>\n",
       "    <tr>\n",
       "      <th>2020-10-02</th>\n",
       "      <td>138.119995</td>\n",
       "      <td>113.019997</td>\n",
       "    </tr>\n",
       "    <tr>\n",
       "      <th>2020-10-05</th>\n",
       "      <td>139.389999</td>\n",
       "      <td>116.500000</td>\n",
       "    </tr>\n",
       "    <tr>\n",
       "      <th>2020-10-06</th>\n",
       "      <td>140.425003</td>\n",
       "      <td>115.580002</td>\n",
       "    </tr>\n",
       "  </tbody>\n",
       "</table>\n",
       "</div>"
      ],
      "text/plain": [
       "                    PG        AAPL\n",
       "Date                              \n",
       "2020-09-30  138.990005  115.809998\n",
       "2020-10-01  139.240005  116.790001\n",
       "2020-10-02  138.119995  113.019997\n",
       "2020-10-05  139.389999  116.500000\n",
       "2020-10-06  140.425003  115.580002"
      ]
     },
     "execution_count": 51,
     "metadata": {},
     "output_type": "execute_result"
    }
   ],
   "source": [
    "\"\"\"\n",
    "Estimando os riscos de um investimento\n",
    "\"\"\"\n",
    "carteiras = ['PG','AAPL']\n",
    "database = pd.DataFrame()\n",
    "for i in carteiras:\n",
    "    database[i] = wb.DataReader(i,\n",
    "                               data_source='yahoo',\n",
    "                               start='2010-1-1')['Adj Close']\n",
    "database.tail()"
   ]
  },
  {
   "cell_type": "code",
   "execution_count": 53,
   "metadata": {},
   "outputs": [
    {
     "name": "stdout",
     "output_type": "stream",
     "text": [
      "                  PG      AAPL\n",
      "Date                          \n",
      "2010-01-04       NaN       NaN\n",
      "2010-01-05  0.000327  0.001727\n",
      "2010-01-06 -0.004755 -0.016034\n",
      "2010-01-07 -0.005438 -0.001850\n",
      "2010-01-08 -0.001323  0.006626\n",
      "...              ...       ...\n",
      "2020-09-30  0.012525  0.014963\n",
      "2020-10-01  0.001797  0.008427\n",
      "2020-10-02 -0.008076 -0.032813\n",
      "2020-10-05  0.009153  0.030327\n",
      "2020-10-06  0.007398 -0.007928\n",
      "\n",
      "[2709 rows x 2 columns]\n"
     ]
    }
   ],
   "source": [
    "retorno = np.log(database/database.shift(1))\n",
    "print(retorno)"
   ]
  },
  {
   "cell_type": "code",
   "execution_count": null,
   "metadata": {},
   "outputs": [],
   "source": []
  }
 ],
 "metadata": {
  "kernelspec": {
   "display_name": "Python 3",
   "language": "python",
   "name": "python3"
  },
  "language_info": {
   "codemirror_mode": {
    "name": "ipython",
    "version": 3
   },
   "file_extension": ".py",
   "mimetype": "text/x-python",
   "name": "python",
   "nbconvert_exporter": "python",
   "pygments_lexer": "ipython3",
   "version": "3.8.5"
  }
 },
 "nbformat": 4,
 "nbformat_minor": 4
}
